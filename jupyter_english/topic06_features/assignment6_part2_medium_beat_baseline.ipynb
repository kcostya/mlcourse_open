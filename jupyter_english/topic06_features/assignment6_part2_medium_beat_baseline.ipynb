{
 "cells": [
  {
   "cell_type": "markdown",
   "metadata": {},
   "source": [
    "<center>\n",
    "<img src=\"../../img/ods_stickers.jpg\">\n",
    "## Open Machine Learning Course\n",
    "<center>\n",
    "Author: Yury Kashnitsky, Data Scientist at Mail.Ru Group\n",
    "\n",
    "This material is subject to the terms and conditions of the license [Creative Commons CC BY-NC-SA 4.0](https://creativecommons.org/licenses/by-nc-sa/4.0/). Free use is permitted for any non-comercial purpose with an obligatory indication of the names of the authors and of the source."
   ]
  },
  {
   "cell_type": "markdown",
   "metadata": {},
   "source": [
    "## <center>Assignment #6\n",
    "### <center> Beating benchmarks in \"How good is your Medium article?\"\n",
    "    \n",
    "[Competition](https://www.kaggle.com/c/how-good-is-your-medium-article). The task is to beat \"Assignment 6 baseline\". Do not forget about our shared [\"primitive\" baseline](https://github.com/Yorko/mlcourse_open/blob/master/jupyter_english/topic04_linear_models/kaggle_medium_ridge_baseline.ipynb) - you'll find something valuable there."
   ]
  },
  {
   "cell_type": "code",
   "execution_count": 1,
   "metadata": {
    "collapsed": true
   },
   "outputs": [],
   "source": [
    "import os\n",
    "import json\n",
    "from tqdm import tqdm_notebook\n",
    "import numpy as np\n",
    "import pandas as pd\n",
    "from sklearn.feature_extraction.text import TfidfVectorizer, CountVectorizer\n",
    "from sklearn.metrics import mean_absolute_error\n",
    "from scipy.sparse import csr_matrix, hstack\n",
    "from sklearn.linear_model import Ridge, RidgeCV\n",
    "from sklearn.preprocessing import StandardScaler, OneHotEncoder, LabelBinarizer\n",
    "import pickle\n",
    "from sklearn.preprocessing import OneHotEncoder\n",
    "from matplotlib import pyplot as plt\n",
    "%matplotlib inline\n",
    "from sklearn.model_selection import TimeSeriesSplit"
   ]
  },
  {
   "cell_type": "markdown",
   "metadata": {},
   "source": [
    "The following code will help to throw away all HTML tags from an article content."
   ]
  },
  {
   "cell_type": "code",
   "execution_count": 2,
   "metadata": {
    "collapsed": true
   },
   "outputs": [],
   "source": [
    "from html.parser import HTMLParser\n",
    "\n",
    "class MLStripper(HTMLParser):\n",
    "    def __init__(self):\n",
    "        self.reset()\n",
    "        self.strict = False\n",
    "        self.convert_charrefs= True\n",
    "        self.fed = []\n",
    "    def handle_data(self, d):\n",
    "        self.fed.append(d)\n",
    "    def get_data(self):\n",
    "        return ''.join(self.fed)\n",
    "\n",
    "def strip_tags(html):\n",
    "    s = MLStripper()\n",
    "    s.feed(html)\n",
    "    return s.get_data()"
   ]
  },
  {
   "cell_type": "markdown",
   "metadata": {},
   "source": [
    "Supplementary function to read a JSON line without crashing on escape characters."
   ]
  },
  {
   "cell_type": "code",
   "execution_count": 3,
   "metadata": {
    "collapsed": true
   },
   "outputs": [],
   "source": [
    "def read_json_line(line=None):\n",
    "    result = None\n",
    "    try:        \n",
    "        result = json.loads(line)\n",
    "    except Exception as e:      \n",
    "        # Find the offending character index:\n",
    "        idx_to_replace = int(str(e).split(' ')[-1].replace(')',''))      \n",
    "        # Remove the offending character:\n",
    "        new_line = list(line)\n",
    "        new_line[idx_to_replace] = ' '\n",
    "        new_line = ''.join(new_line)     \n",
    "        return read_json_line(line=new_line)\n",
    "    return result"
   ]
  },
  {
   "cell_type": "markdown",
   "metadata": {},
   "source": [
    "Extract features `content`, `published`, `title` and `author`, write them to separate files for train and test sets."
   ]
  },
  {
   "cell_type": "code",
   "execution_count": 175,
   "metadata": {
    "collapsed": true
   },
   "outputs": [],
   "source": [
    "PATH_TO_DATA = '../../../mlco_data/medium'"
   ]
  },
  {
   "cell_type": "markdown",
   "metadata": {},
   "source": [
    "**Add the following groups of features:**\n",
    "    - Tf-Idf with article content (ngram_range=(1, 2), max_features=100000 but you can try adding more)\n",
    "    - Tf-Idf with article titles (ngram_range=(1, 2), max_features=100000 but you can try adding more)\n",
    "    - Time features: publication hour, whether it's morning, day, night, whether it's a weekend\n",
    "    - Bag of authors (i.e. One-Hot-Encoded author names)"
   ]
  },
  {
   "cell_type": "code",
   "execution_count": 176,
   "metadata": {},
   "outputs": [
    {
     "data": {
      "text/plain": [
       "((62313, 1), (34645, 1))"
      ]
     },
     "execution_count": 176,
     "metadata": {},
     "output_type": "execute_result"
    }
   ],
   "source": [
    "train_tags = pd.read_table(os.path.join(PATH_TO_DATA,'train_tags.txt'), sep='\\n', header=None).applymap(lambda x: eval(x))\n",
    "test_tags = pd.read_table(os.path.join(PATH_TO_DATA,'test_tags.txt'), sep='\\n', header=None).applymap(lambda x: eval(x))\n",
    "train_tags.shape, test_tags.shape"
   ]
  },
  {
   "cell_type": "code",
   "execution_count": 177,
   "metadata": {},
   "outputs": [],
   "source": [
    "train_tags['read_time'] = train_tags.iloc[:, 0].apply(lambda x: x.get('twitter:data1'))\n",
    "test_tags['read_time'] = test_tags.iloc[:, 0].apply(lambda x: x.get('twitter:data1'))"
   ]
  },
  {
   "cell_type": "code",
   "execution_count": 178,
   "metadata": {},
   "outputs": [
    {
     "data": {
      "text/plain": [
       "112"
      ]
     },
     "execution_count": 178,
     "metadata": {},
     "output_type": "execute_result"
    }
   ],
   "source": [
    "len(train_tags['read_time'].value_counts())"
   ]
  },
  {
   "cell_type": "code",
   "execution_count": 179,
   "metadata": {},
   "outputs": [],
   "source": [
    "encoder = LabelBinarizer(sparse_output=True)\n",
    "X_train_time = encoder.fit_transform(train_tags['read_time'])\n",
    "X_test_time = encoder.transform(test_tags['read_time'])"
   ]
  },
  {
   "cell_type": "code",
   "execution_count": 180,
   "metadata": {},
   "outputs": [
    {
     "data": {
      "text/plain": [
       "((62313, 112), (34645, 112))"
      ]
     },
     "execution_count": 180,
     "metadata": {},
     "output_type": "execute_result"
    }
   ],
   "source": [
    "X_train_time.shape, X_test_time.shape"
   ]
  },
  {
   "cell_type": "code",
   "execution_count": 262,
   "metadata": {},
   "outputs": [
    {
     "data": {
      "text/plain": [
       "2845"
      ]
     },
     "execution_count": 262,
     "metadata": {},
     "output_type": "execute_result"
    }
   ],
   "source": [
    "import gc\n",
    "gc.collect()"
   ]
  },
  {
   "cell_type": "code",
   "execution_count": 263,
   "metadata": {
    "collapsed": true
   },
   "outputs": [],
   "source": [
    "chunks=pd.read_table(os.path.join(PATH_TO_DATA,'train_html.txt'), sep='\\n', header=None, chunksize=1000)"
   ]
  },
  {
   "cell_type": "code",
   "execution_count": 264,
   "metadata": {},
   "outputs": [
    {
     "name": "stdout",
     "output_type": "stream",
     "text": [
      "CPU times: user 20.6 s, sys: 1.28 s, total: 21.9 s\n",
      "Wall time: 21.9 s\n"
     ]
    }
   ],
   "source": [
    "%%time\n",
    "train_html = pd.DataFrame()\n",
    "train_html = pd.concat(chunk for chunk in chunks)"
   ]
  },
  {
   "cell_type": "code",
   "execution_count": 265,
   "metadata": {
    "collapsed": true
   },
   "outputs": [],
   "source": [
    "chunks = pd.read_table(os.path.join(PATH_TO_DATA,'test_html.txt'), sep='\\n', header=None, chunksize=1000)"
   ]
  },
  {
   "cell_type": "code",
   "execution_count": 266,
   "metadata": {
    "collapsed": true
   },
   "outputs": [],
   "source": [
    "test_html = pd.DataFrame()\n",
    "test_html = pd.concat(chunk for chunk in chunks)"
   ]
  },
  {
   "cell_type": "code",
   "execution_count": 267,
   "metadata": {},
   "outputs": [
    {
     "data": {
      "text/plain": [
       "((62313, 1), (34645, 1))"
      ]
     },
     "execution_count": 267,
     "metadata": {},
     "output_type": "execute_result"
    }
   ],
   "source": [
    "train_html.shape, test_html.shape"
   ]
  },
  {
   "cell_type": "code",
   "execution_count": 268,
   "metadata": {},
   "outputs": [],
   "source": [
    "train_html['num_pics'] = train_html.applymap(lambda x: x.count('<img src'))\n",
    "test_html['num_pics'] = test_html.applymap(lambda x: x.count('<img src'))"
   ]
  },
  {
   "cell_type": "code",
   "execution_count": 269,
   "metadata": {
    "collapsed": true
   },
   "outputs": [],
   "source": [
    "train_html['num_pics_log'] = train_html['num_pics'].apply(lambda x: np.log(x))\n",
    "test_html['num_pics_log'] = test_html['num_pics'].apply(lambda x: np.log(x))"
   ]
  },
  {
   "cell_type": "markdown",
   "metadata": {},
   "source": [
    "scaler.fit(train_html['num_pics_log'].values.reshape(-1,1))\n",
    "\n",
    "train_html['num_pics_log_scaled'] = scaler.transform(train_html['num_pics_log'].values.reshape(-1,1))\n",
    "test_html['num_pics_log_scaled'] = scaler.transform(test_html['num_pics_log'].values.reshape(-1,1))"
   ]
  },
  {
   "cell_type": "code",
   "execution_count": 270,
   "metadata": {},
   "outputs": [
    {
     "data": {
      "text/html": [
       "<div>\n",
       "<style>\n",
       "    .dataframe thead tr:only-child th {\n",
       "        text-align: right;\n",
       "    }\n",
       "\n",
       "    .dataframe thead th {\n",
       "        text-align: left;\n",
       "    }\n",
       "\n",
       "    .dataframe tbody tr th {\n",
       "        vertical-align: top;\n",
       "    }\n",
       "</style>\n",
       "<table border=\"1\" class=\"dataframe\">\n",
       "  <thead>\n",
       "    <tr style=\"text-align: right;\">\n",
       "      <th></th>\n",
       "      <th>0</th>\n",
       "      <th>num_pics</th>\n",
       "      <th>num_pics_log</th>\n",
       "    </tr>\n",
       "  </thead>\n",
       "  <tbody>\n",
       "    <tr>\n",
       "      <th>0</th>\n",
       "      <td>&lt;div&gt;&lt;header class=\"container u-maxWidth740\"&gt;&lt;...</td>\n",
       "      <td>3</td>\n",
       "      <td>1.098612</td>\n",
       "    </tr>\n",
       "    <tr>\n",
       "      <th>1</th>\n",
       "      <td>&lt;div&gt;&lt;header class=\"container u-maxWidth740\"&gt;&lt;...</td>\n",
       "      <td>3</td>\n",
       "      <td>1.098612</td>\n",
       "    </tr>\n",
       "    <tr>\n",
       "      <th>2</th>\n",
       "      <td>&lt;div&gt;&lt;header class=\"container u-maxWidth740\"&gt;&lt;...</td>\n",
       "      <td>2</td>\n",
       "      <td>0.693147</td>\n",
       "    </tr>\n",
       "    <tr>\n",
       "      <th>3</th>\n",
       "      <td>&lt;div&gt;&lt;header class=\"container u-maxWidth740\"&gt;&lt;...</td>\n",
       "      <td>3</td>\n",
       "      <td>1.098612</td>\n",
       "    </tr>\n",
       "    <tr>\n",
       "      <th>4</th>\n",
       "      <td>&lt;div&gt;&lt;header class=\"container u-maxWidth740\"&gt;&lt;...</td>\n",
       "      <td>3</td>\n",
       "      <td>1.098612</td>\n",
       "    </tr>\n",
       "  </tbody>\n",
       "</table>\n",
       "</div>"
      ],
      "text/plain": [
       "                                                   0  num_pics  num_pics_log\n",
       "0  <div><header class=\"container u-maxWidth740\"><...         3      1.098612\n",
       "1  <div><header class=\"container u-maxWidth740\"><...         3      1.098612\n",
       "2  <div><header class=\"container u-maxWidth740\"><...         2      0.693147\n",
       "3  <div><header class=\"container u-maxWidth740\"><...         3      1.098612\n",
       "4  <div><header class=\"container u-maxWidth740\"><...         3      1.098612"
      ]
     },
     "execution_count": 270,
     "metadata": {},
     "output_type": "execute_result"
    }
   ],
   "source": [
    "train_html.head()"
   ]
  },
  {
   "cell_type": "code",
   "execution_count": 271,
   "metadata": {},
   "outputs": [],
   "source": [
    "scaler = StandardScaler()\n",
    "scaler.fit(train_html['num_pics_log'].values.reshape(-1,1))\n",
    "\n",
    "train_html['num_pics_log_scaled'] = scaler.transform(train_html['num_pics_log'].values.reshape(-1,1))\n",
    "test_html['num_pics_log_scaled'] = scaler.transform(test_html['num_pics_log'].values.reshape(-1,1))"
   ]
  },
  {
   "cell_type": "code",
   "execution_count": 272,
   "metadata": {
    "collapsed": true
   },
   "outputs": [],
   "source": [
    "train_html['num_links'] = train_html[[0]].applymap(lambda x: x.count('<a href'))\n",
    "test_html['num_links'] = test_html[[0]].applymap(lambda x: x.count('<a href'))"
   ]
  },
  {
   "cell_type": "code",
   "execution_count": 273,
   "metadata": {
    "collapsed": true
   },
   "outputs": [],
   "source": [
    "train_html['num_links_bins'] = pd.cut(train_html['num_links'], bins=(2,4,7,10,14,22, 1690))\n",
    "test_html['num_links_bins'] = pd.cut(test_html['num_links'], bins=(2,4,7,10,14,22, 1690))"
   ]
  },
  {
   "cell_type": "code",
   "execution_count": 274,
   "metadata": {
    "collapsed": true
   },
   "outputs": [],
   "source": [
    "train_html['num_pics_bins'] = pd.cut(train_html['num_pics'], bins=(3,4,5,6,9,10,12,17,534))\n",
    "test_html['num_pics_bins'] = pd.cut(test_html['num_pics'], bins=(3,4,5,6,9,10,12,17,534))"
   ]
  },
  {
   "cell_type": "code",
   "execution_count": 275,
   "metadata": {
    "collapsed": true
   },
   "outputs": [],
   "source": [
    "train_html['code'] = train_html[[0]].applymap(lambda x: x.count('<code'))\n",
    "test_html['code'] = test_html[[0]].applymap(lambda x: x.count('<code'))"
   ]
  },
  {
   "cell_type": "code",
   "execution_count": 276,
   "metadata": {
    "collapsed": true
   },
   "outputs": [],
   "source": [
    "train_html['code'] = train_html['code'].apply(lambda x: 1 if x>0 else 0)\n",
    "test_html['code'] = test_html['code'].apply(lambda x: 1 if x>0 else 0)"
   ]
  },
  {
   "cell_type": "code",
   "execution_count": 277,
   "metadata": {},
   "outputs": [
    {
     "data": {
      "text/plain": [
       "0    32093\n",
       "1     2552\n",
       "Name: code, dtype: int64"
      ]
     },
     "execution_count": 277,
     "metadata": {},
     "output_type": "execute_result"
    }
   ],
   "source": [
    "test_html['code'].value_counts()"
   ]
  },
  {
   "cell_type": "code",
   "execution_count": 278,
   "metadata": {},
   "outputs": [
    {
     "data": {
      "text/plain": [
       "((62313, 8), (34645, 8))"
      ]
     },
     "execution_count": 278,
     "metadata": {},
     "output_type": "execute_result"
    }
   ],
   "source": [
    "train_html.shape, test_html.shape"
   ]
  },
  {
   "cell_type": "code",
   "execution_count": 279,
   "metadata": {},
   "outputs": [
    {
     "data": {
      "text/plain": [
       "1004"
      ]
     },
     "execution_count": 279,
     "metadata": {},
     "output_type": "execute_result"
    }
   ],
   "source": [
    "gc.collect()"
   ]
  },
  {
   "cell_type": "code",
   "execution_count": 280,
   "metadata": {
    "collapsed": true
   },
   "outputs": [],
   "source": [
    "X_train_pics = pd.DataFrame(pd.concat([pd.get_dummies(train_html['num_pics_bins'],prefix='pics'),\n",
    "                                       pd.get_dummies(train_html['num_links_bins'],prefix='links'),\n",
    "                                      train_html[['code']], train_html[['num_pics_log_scaled']]], axis=1))\n",
    "\n",
    "X_test_pics = pd.DataFrame(pd.concat([pd.get_dummies(test_html['num_pics_bins'],prefix='pics'),\n",
    "                                       pd.get_dummies(test_html['num_links_bins'],prefix='links'),\n",
    "                                                     test_html[['code']], test_html[['num_pics_log_scaled']]], axis=1))"
   ]
  },
  {
   "cell_type": "code",
   "execution_count": 281,
   "metadata": {},
   "outputs": [
    {
     "data": {
      "text/plain": [
       "((62313, 16), (34645, 16))"
      ]
     },
     "execution_count": 281,
     "metadata": {},
     "output_type": "execute_result"
    }
   ],
   "source": [
    "X_train_pics.shape, X_test_pics.shape"
   ]
  },
  {
   "cell_type": "code",
   "execution_count": 282,
   "metadata": {
    "collapsed": true
   },
   "outputs": [],
   "source": [
    "train_html.drop(0, axis=1, inplace=True)\n",
    "test_html.drop(0, axis=1, inplace=True)"
   ]
  },
  {
   "cell_type": "markdown",
   "metadata": {},
   "source": [
    "***Tf-Idf with article content ***"
   ]
  },
  {
   "cell_type": "code",
   "execution_count": 204,
   "metadata": {
    "collapsed": true
   },
   "outputs": [],
   "source": [
    "train_content = pd.read_table(os.path.join(PATH_TO_DATA,'train_content.txt'), sep='\\n', header=None)\n",
    "test_content = pd.read_table(os.path.join(PATH_TO_DATA,'test_content.txt'), sep='\\n', header=None)"
   ]
  },
  {
   "cell_type": "code",
   "execution_count": 205,
   "metadata": {},
   "outputs": [
    {
     "data": {
      "text/plain": [
       "((62313, 1), (34645, 1))"
      ]
     },
     "execution_count": 205,
     "metadata": {},
     "output_type": "execute_result"
    }
   ],
   "source": [
    "train_content.shape, test_content.shape"
   ]
  },
  {
   "cell_type": "code",
   "execution_count": 206,
   "metadata": {
    "collapsed": true
   },
   "outputs": [],
   "source": [
    "train_content['num_words'] = train_content.applymap(lambda x: len(x.split()))"
   ]
  },
  {
   "cell_type": "code",
   "execution_count": 207,
   "metadata": {
    "collapsed": true
   },
   "outputs": [],
   "source": [
    "test_content['num_words'] = test_content.applymap(lambda x: len(x.split()))"
   ]
  },
  {
   "cell_type": "code",
   "execution_count": 208,
   "metadata": {
    "collapsed": true
   },
   "outputs": [],
   "source": [
    "train_content['num_words_log'] = train_content['num_words'].apply(lambda x: np.log(x))\n",
    "test_content['num_words_log'] = test_content['num_words'].apply(lambda x: np.log(x))"
   ]
  },
  {
   "cell_type": "code",
   "execution_count": 209,
   "metadata": {},
   "outputs": [
    {
     "data": {
      "image/png": "[encoded data removed]",
      "text/plain": [
       "<matplotlib.figure.Figure at 0x7eff1bbca5c0>"
      ]
     },
     "metadata": {},
     "output_type": "display_data"
    }
   ],
   "source": [
    "plt.hist(test_content['num_words_log'], bins=30, alpha=.5, color='red', label='test', range=(0,10));\n",
    "plt.hist(train_content['num_words_log'], bins=30, alpha=.5, color='green', label='train', range=(0,10));\n",
    "plt.legend();"
   ]
  },
  {
   "cell_type": "code",
   "execution_count": 210,
   "metadata": {
    "collapsed": true
   },
   "outputs": [],
   "source": [
    "scaler = StandardScaler()\n",
    "scaler.fit(train_content['num_words_log'].values.reshape(-1,1))\n",
    "\n",
    "train_content['num_words_log_scaled'] = scaler.transform(train_content['num_words_log'].values.reshape(-1,1))\n",
    "test_content['num_words_log_scaled'] = scaler.transform(test_content['num_words_log'].values.reshape(-1,1))"
   ]
  },
  {
   "cell_type": "markdown",
   "metadata": {},
   "source": [
    "**TFIDF FOR CONTENT**"
   ]
  },
  {
   "cell_type": "code",
   "execution_count": 211,
   "metadata": {},
   "outputs": [
    {
     "data": {
      "text/plain": [
       "5917"
      ]
     },
     "execution_count": 211,
     "metadata": {},
     "output_type": "execute_result"
    }
   ],
   "source": [
    "gc.collect()"
   ]
  },
  {
   "cell_type": "code",
   "execution_count": 212,
   "metadata": {},
   "outputs": [
    {
     "name": "stdout",
     "output_type": "stream",
     "text": [
      "CPU times: user 6.34 s, sys: 2.41 s, total: 8.75 s\n",
      "Wall time: 8.73 s\n"
     ]
    }
   ],
   "source": [
    "%%time\n",
    "with open(os.path.join(PATH_TO_DATA, 'X_train_content_sparse.pkl'), 'rb') as pickle_file:\n",
    "          X_train_content_sparse = pickle.load(pickle_file)\n",
    "\n",
    "with open(os.path.join(PATH_TO_DATA, 'X_test_content_sparse.pkl'), 'rb') as pickle_file:\n",
    "          X_test_content_sparse = pickle.load(pickle_file)"
   ]
  },
  {
   "cell_type": "code",
   "execution_count": 213,
   "metadata": {},
   "outputs": [
    {
     "data": {
      "text/plain": [
       "((62313, 100000), (34645, 100000))"
      ]
     },
     "execution_count": 213,
     "metadata": {},
     "output_type": "execute_result"
    }
   ],
   "source": [
    "X_train_content_sparse.shape, X_test_content_sparse.shape"
   ]
  },
  {
   "cell_type": "markdown",
   "metadata": {},
   "source": [
    "***Tf-Idf with article titles***"
   ]
  },
  {
   "cell_type": "code",
   "execution_count": 214,
   "metadata": {
    "collapsed": true
   },
   "outputs": [],
   "source": [
    "train_title = pd.read_table(os.path.join(PATH_TO_DATA,'train_title.txt'), sep='\\n', header=None)\n",
    "test_title = pd.read_table(os.path.join(PATH_TO_DATA,'test_title.txt'), sep='\\n', header=None)"
   ]
  },
  {
   "cell_type": "code",
   "execution_count": 215,
   "metadata": {},
   "outputs": [
    {
     "data": {
      "text/plain": [
       "((62313, 1), (34645, 1))"
      ]
     },
     "execution_count": 215,
     "metadata": {},
     "output_type": "execute_result"
    }
   ],
   "source": [
    "train_title.shape, test_title.shape"
   ]
  },
  {
   "cell_type": "code",
   "execution_count": 216,
   "metadata": {},
   "outputs": [
    {
     "data": {
      "text/html": [
       "<div>\n",
       "<style>\n",
       "    .dataframe thead tr:only-child th {\n",
       "        text-align: right;\n",
       "    }\n",
       "\n",
       "    .dataframe thead th {\n",
       "        text-align: left;\n",
       "    }\n",
       "\n",
       "    .dataframe tbody tr th {\n",
       "        vertical-align: top;\n",
       "    }\n",
       "</style>\n",
       "<table border=\"1\" class=\"dataframe\">\n",
       "  <thead>\n",
       "    <tr style=\"text-align: right;\">\n",
       "      <th></th>\n",
       "      <th>0</th>\n",
       "    </tr>\n",
       "  </thead>\n",
       "  <tbody>\n",
       "    <tr>\n",
       "      <th>0</th>\n",
       "      <td>Medium Terms of Service – Medium Policy – Medium</td>\n",
       "    </tr>\n",
       "    <tr>\n",
       "      <th>1</th>\n",
       "      <td>Amendment to Medium Terms of Service Applicabl...</td>\n",
       "    </tr>\n",
       "    <tr>\n",
       "      <th>2</th>\n",
       "      <td>走入山與海之間：閩東大刀會和兩岸走私 – Yun-Chen Chien（簡韻真） – Medium</td>\n",
       "    </tr>\n",
       "    <tr>\n",
       "      <th>3</th>\n",
       "      <td>How fast can a camera get? – What comes to min...</td>\n",
       "    </tr>\n",
       "    <tr>\n",
       "      <th>4</th>\n",
       "      <td>A game for the lonely fox – What comes to mind...</td>\n",
       "    </tr>\n",
       "  </tbody>\n",
       "</table>\n",
       "</div>"
      ],
      "text/plain": [
       "                                                   0\n",
       "0   Medium Terms of Service – Medium Policy – Medium\n",
       "1  Amendment to Medium Terms of Service Applicabl...\n",
       "2  走入山與海之間：閩東大刀會和兩岸走私 – Yun-Chen Chien（簡韻真） – Medium\n",
       "3  How fast can a camera get? – What comes to min...\n",
       "4  A game for the lonely fox – What comes to mind..."
      ]
     },
     "execution_count": 216,
     "metadata": {},
     "output_type": "execute_result"
    }
   ],
   "source": [
    "train_title.head()"
   ]
  },
  {
   "cell_type": "code",
   "execution_count": 217,
   "metadata": {},
   "outputs": [
    {
     "name": "stdout",
     "output_type": "stream",
     "text": [
      "CPU times: user 1.29 s, sys: 140 µs, total: 1.29 s\n",
      "Wall time: 1.29 s\n"
     ]
    }
   ],
   "source": [
    "%%time\n",
    "tfidf = TfidfVectorizer(ngram_range=(1,1), max_df=0.5, max_features=100000)\n",
    "X_train_title_sparse = tfidf.fit_transform(train_title[0])"
   ]
  },
  {
   "cell_type": "code",
   "execution_count": 218,
   "metadata": {},
   "outputs": [
    {
     "name": "stdout",
     "output_type": "stream",
     "text": [
      "CPU times: user 548 ms, sys: 0 ns, total: 548 ms\n",
      "Wall time: 546 ms\n"
     ]
    }
   ],
   "source": [
    "%%time\n",
    "X_test_title_sparse = tfidf.transform(test_title[0])"
   ]
  },
  {
   "cell_type": "code",
   "execution_count": 219,
   "metadata": {},
   "outputs": [
    {
     "data": {
      "text/plain": [
       "((62313, 66032), (34645, 66032))"
      ]
     },
     "execution_count": 219,
     "metadata": {},
     "output_type": "execute_result"
    }
   ],
   "source": [
    "X_train_title_sparse.shape, X_test_title_sparse.shape"
   ]
  },
  {
   "cell_type": "code",
   "execution_count": 220,
   "metadata": {
    "collapsed": true
   },
   "outputs": [],
   "source": [
    "with open(os.path.join(PATH_TO_DATA, 'X_train_title_sparse.pkl'), 'wb') as X_train_pkl:\n",
    "    pickle.dump(X_train_title_sparse, X_train_pkl, protocol=2)\n",
    "with open(os.path.join(PATH_TO_DATA, 'X_test_title_sparse.pkl'), 'wb') as X_test_pkl:\n",
    "    pickle.dump(X_test_title_sparse, X_test_pkl, protocol=2)"
   ]
  },
  {
   "cell_type": "markdown",
   "metadata": {},
   "source": [
    "***Bag of authors (i.e. One-Hot-Encoded author names)***"
   ]
  },
  {
   "cell_type": "code",
   "execution_count": 221,
   "metadata": {},
   "outputs": [
    {
     "name": "stdout",
     "output_type": "stream",
     "text": [
      "CPU times: user 2.75 s, sys: 0 ns, total: 2.75 s\n",
      "Wall time: 2.75 s\n"
     ]
    }
   ],
   "source": [
    "%%time\n",
    "train_author = pd.read_table(os.path.join(PATH_TO_DATA,'train_author.txt'), sep='\\n', header=None).\\\n",
    "                applymap(lambda x: eval(x))\n",
    "\n",
    "test_author = pd.read_table(os.path.join(PATH_TO_DATA,'test_author.txt'), sep='\\n', header=None).\\\n",
    "                applymap(lambda x: eval(x))"
   ]
  },
  {
   "cell_type": "code",
   "execution_count": 222,
   "metadata": {},
   "outputs": [
    {
     "data": {
      "text/plain": [
       "((62313, 1), (34645, 1))"
      ]
     },
     "execution_count": 222,
     "metadata": {},
     "output_type": "execute_result"
    }
   ],
   "source": [
    "train_author.shape, test_author.shape"
   ]
  },
  {
   "cell_type": "code",
   "execution_count": 223,
   "metadata": {},
   "outputs": [
    {
     "data": {
      "text/html": [
       "<div>\n",
       "<style>\n",
       "    .dataframe thead tr:only-child th {\n",
       "        text-align: right;\n",
       "    }\n",
       "\n",
       "    .dataframe thead th {\n",
       "        text-align: left;\n",
       "    }\n",
       "\n",
       "    .dataframe tbody tr th {\n",
       "        vertical-align: top;\n",
       "    }\n",
       "</style>\n",
       "<table border=\"1\" class=\"dataframe\">\n",
       "  <thead>\n",
       "    <tr style=\"text-align: right;\">\n",
       "      <th></th>\n",
       "      <th>0</th>\n",
       "    </tr>\n",
       "  </thead>\n",
       "  <tbody>\n",
       "    <tr>\n",
       "      <th>0</th>\n",
       "      <td>{'name': None, 'url': 'https://medium.com/@Med...</td>\n",
       "    </tr>\n",
       "    <tr>\n",
       "      <th>1</th>\n",
       "      <td>{'name': None, 'url': 'https://medium.com/@Med...</td>\n",
       "    </tr>\n",
       "    <tr>\n",
       "      <th>2</th>\n",
       "      <td>{'name': None, 'url': 'https://medium.com/@ael...</td>\n",
       "    </tr>\n",
       "    <tr>\n",
       "      <th>3</th>\n",
       "      <td>{'name': None, 'url': 'https://medium.com/@vai...</td>\n",
       "    </tr>\n",
       "    <tr>\n",
       "      <th>4</th>\n",
       "      <td>{'name': None, 'url': 'https://medium.com/@vai...</td>\n",
       "    </tr>\n",
       "  </tbody>\n",
       "</table>\n",
       "</div>"
      ],
      "text/plain": [
       "                                                   0\n",
       "0  {'name': None, 'url': 'https://medium.com/@Med...\n",
       "1  {'name': None, 'url': 'https://medium.com/@Med...\n",
       "2  {'name': None, 'url': 'https://medium.com/@ael...\n",
       "3  {'name': None, 'url': 'https://medium.com/@vai...\n",
       "4  {'name': None, 'url': 'https://medium.com/@vai..."
      ]
     },
     "execution_count": 223,
     "metadata": {},
     "output_type": "execute_result"
    }
   ],
   "source": [
    "train_author.head()"
   ]
  },
  {
   "cell_type": "code",
   "execution_count": 224,
   "metadata": {},
   "outputs": [
    {
     "name": "stdout",
     "output_type": "stream",
     "text": [
      "CPU times: user 110 ms, sys: 0 ns, total: 110 ms\n",
      "Wall time: 109 ms\n"
     ]
    }
   ],
   "source": [
    "%%time\n",
    "train_author['twitter'] = train_author.iloc[:, 0].apply(lambda x: x.get('twitter'))\n",
    "train_author['url'] = train_author.iloc[:, 0].apply(lambda x: x.get('url'))\n",
    "train_author['name'] = train_author.iloc[:, 0].apply(lambda x: x.get('name'))\n",
    "\n",
    "test_author['twitter'] = test_author.iloc[:, 0].apply(lambda x: x.get('twitter'))\n",
    "test_author['url'] = test_author.iloc[:, 0].apply(lambda x: x.get('url'))\n",
    "test_author['name'] = test_author.iloc[:, 0].apply(lambda x: x.get('name'))"
   ]
  },
  {
   "cell_type": "code",
   "execution_count": 225,
   "metadata": {
    "collapsed": true
   },
   "outputs": [],
   "source": [
    "train_author['name'] = train_author['name'].map(str)\n",
    "train_author['url'] = train_author['url'].map(str)\n",
    "train_author['twitter'] = train_author['twitter'].map(str)\n",
    "\n",
    "test_author['name'] = test_author['name'].map(str)\n",
    "test_author['url'] = test_author['url'].map(str)\n",
    "test_author['twitter'] = test_author['twitter'].map(str)"
   ]
  },
  {
   "cell_type": "code",
   "execution_count": 226,
   "metadata": {},
   "outputs": [
    {
     "data": {
      "text/html": [
       "<div>\n",
       "<style>\n",
       "    .dataframe thead tr:only-child th {\n",
       "        text-align: right;\n",
       "    }\n",
       "\n",
       "    .dataframe thead th {\n",
       "        text-align: left;\n",
       "    }\n",
       "\n",
       "    .dataframe tbody tr th {\n",
       "        vertical-align: top;\n",
       "    }\n",
       "</style>\n",
       "<table border=\"1\" class=\"dataframe\">\n",
       "  <thead>\n",
       "    <tr style=\"text-align: right;\">\n",
       "      <th></th>\n",
       "      <th>0</th>\n",
       "      <th>twitter</th>\n",
       "      <th>url</th>\n",
       "      <th>name</th>\n",
       "    </tr>\n",
       "  </thead>\n",
       "  <tbody>\n",
       "    <tr>\n",
       "      <th>0</th>\n",
       "      <td>{'name': None, 'url': 'https://medium.com/@Med...</td>\n",
       "      <td>@Medium</td>\n",
       "      <td>https://medium.com/@Medium</td>\n",
       "      <td>None</td>\n",
       "    </tr>\n",
       "    <tr>\n",
       "      <th>1</th>\n",
       "      <td>{'name': None, 'url': 'https://medium.com/@Med...</td>\n",
       "      <td>@Medium</td>\n",
       "      <td>https://medium.com/@Medium</td>\n",
       "      <td>None</td>\n",
       "    </tr>\n",
       "    <tr>\n",
       "      <th>2</th>\n",
       "      <td>{'name': None, 'url': 'https://medium.com/@ael...</td>\n",
       "      <td>@aelcenganda</td>\n",
       "      <td>https://medium.com/@aelcenganda</td>\n",
       "      <td>None</td>\n",
       "    </tr>\n",
       "    <tr>\n",
       "      <th>3</th>\n",
       "      <td>{'name': None, 'url': 'https://medium.com/@vai...</td>\n",
       "      <td>@vaibhav_khulbe</td>\n",
       "      <td>https://medium.com/@vaibhavkhulbe</td>\n",
       "      <td>None</td>\n",
       "    </tr>\n",
       "    <tr>\n",
       "      <th>4</th>\n",
       "      <td>{'name': None, 'url': 'https://medium.com/@vai...</td>\n",
       "      <td>@vaibhav_khulbe</td>\n",
       "      <td>https://medium.com/@vaibhavkhulbe</td>\n",
       "      <td>None</td>\n",
       "    </tr>\n",
       "  </tbody>\n",
       "</table>\n",
       "</div>"
      ],
      "text/plain": [
       "                                                   0          twitter  \\\n",
       "0  {'name': None, 'url': 'https://medium.com/@Med...          @Medium   \n",
       "1  {'name': None, 'url': 'https://medium.com/@Med...          @Medium   \n",
       "2  {'name': None, 'url': 'https://medium.com/@ael...     @aelcenganda   \n",
       "3  {'name': None, 'url': 'https://medium.com/@vai...  @vaibhav_khulbe   \n",
       "4  {'name': None, 'url': 'https://medium.com/@vai...  @vaibhav_khulbe   \n",
       "\n",
       "                                 url  name  \n",
       "0         https://medium.com/@Medium  None  \n",
       "1         https://medium.com/@Medium  None  \n",
       "2    https://medium.com/@aelcenganda  None  \n",
       "3  https://medium.com/@vaibhavkhulbe  None  \n",
       "4  https://medium.com/@vaibhavkhulbe  None  "
      ]
     },
     "execution_count": 226,
     "metadata": {},
     "output_type": "execute_result"
    }
   ],
   "source": [
    "train_author.head()"
   ]
  },
  {
   "cell_type": "code",
   "execution_count": 227,
   "metadata": {
    "collapsed": true
   },
   "outputs": [],
   "source": [
    "train_author.drop(0, axis=1, inplace=True)\n",
    "test_author.drop(0, axis=1, inplace=True)"
   ]
  },
  {
   "cell_type": "code",
   "execution_count": 228,
   "metadata": {},
   "outputs": [
    {
     "data": {
      "text/html": [
       "<div>\n",
       "<style>\n",
       "    .dataframe thead tr:only-child th {\n",
       "        text-align: right;\n",
       "    }\n",
       "\n",
       "    .dataframe thead th {\n",
       "        text-align: left;\n",
       "    }\n",
       "\n",
       "    .dataframe tbody tr th {\n",
       "        vertical-align: top;\n",
       "    }\n",
       "</style>\n",
       "<table border=\"1\" class=\"dataframe\">\n",
       "  <thead>\n",
       "    <tr style=\"text-align: right;\">\n",
       "      <th></th>\n",
       "      <th>twitter</th>\n",
       "      <th>url</th>\n",
       "      <th>name</th>\n",
       "    </tr>\n",
       "  </thead>\n",
       "  <tbody>\n",
       "    <tr>\n",
       "      <th>0</th>\n",
       "      <td>@Medium</td>\n",
       "      <td>https://medium.com/@Medium</td>\n",
       "      <td>None</td>\n",
       "    </tr>\n",
       "    <tr>\n",
       "      <th>1</th>\n",
       "      <td>@Medium</td>\n",
       "      <td>https://medium.com/@Medium</td>\n",
       "      <td>None</td>\n",
       "    </tr>\n",
       "    <tr>\n",
       "      <th>2</th>\n",
       "      <td>@aelcenganda</td>\n",
       "      <td>https://medium.com/@aelcenganda</td>\n",
       "      <td>None</td>\n",
       "    </tr>\n",
       "    <tr>\n",
       "      <th>3</th>\n",
       "      <td>@vaibhav_khulbe</td>\n",
       "      <td>https://medium.com/@vaibhavkhulbe</td>\n",
       "      <td>None</td>\n",
       "    </tr>\n",
       "    <tr>\n",
       "      <th>4</th>\n",
       "      <td>@vaibhav_khulbe</td>\n",
       "      <td>https://medium.com/@vaibhavkhulbe</td>\n",
       "      <td>None</td>\n",
       "    </tr>\n",
       "  </tbody>\n",
       "</table>\n",
       "</div>"
      ],
      "text/plain": [
       "           twitter                                url  name\n",
       "0          @Medium         https://medium.com/@Medium  None\n",
       "1          @Medium         https://medium.com/@Medium  None\n",
       "2     @aelcenganda    https://medium.com/@aelcenganda  None\n",
       "3  @vaibhav_khulbe  https://medium.com/@vaibhavkhulbe  None\n",
       "4  @vaibhav_khulbe  https://medium.com/@vaibhavkhulbe  None"
      ]
     },
     "execution_count": 228,
     "metadata": {},
     "output_type": "execute_result"
    }
   ],
   "source": [
    "train_author.head()"
   ]
  },
  {
   "cell_type": "code",
   "execution_count": 229,
   "metadata": {},
   "outputs": [
    {
     "data": {
      "text/plain": [
       "23588"
      ]
     },
     "execution_count": 229,
     "metadata": {},
     "output_type": "execute_result"
    }
   ],
   "source": [
    "len(set(train_author['twitter'].values))"
   ]
  },
  {
   "cell_type": "code",
   "execution_count": 230,
   "metadata": {
    "collapsed": true
   },
   "outputs": [],
   "source": [
    "encoder = LabelBinarizer(sparse_output=True)\n",
    "X_test_author_sparse = encoder.fit_transform(test_author['twitter'])"
   ]
  },
  {
   "cell_type": "code",
   "execution_count": 231,
   "metadata": {},
   "outputs": [
    {
     "data": {
      "text/plain": [
       "array(['None'],\n",
       "      dtype='<U16')"
      ]
     },
     "execution_count": 231,
     "metadata": {},
     "output_type": "execute_result"
    }
   ],
   "source": [
    "encoder.inverse_transform(X_test_author_sparse[6,:])"
   ]
  },
  {
   "cell_type": "code",
   "execution_count": 232,
   "metadata": {
    "collapsed": true
   },
   "outputs": [],
   "source": [
    "X_train_author_sparse = encoder.transform(train_author['twitter'])"
   ]
  },
  {
   "cell_type": "code",
   "execution_count": 233,
   "metadata": {},
   "outputs": [
    {
     "data": {
      "text/plain": [
       "((62313, 12199), (34645, 12199))"
      ]
     },
     "execution_count": 233,
     "metadata": {},
     "output_type": "execute_result"
    }
   ],
   "source": [
    "X_train_author_sparse.shape, X_test_author_sparse.shape"
   ]
  },
  {
   "cell_type": "markdown",
   "metadata": {},
   "source": [
    "*** Time features***"
   ]
  },
  {
   "cell_type": "code",
   "execution_count": 296,
   "metadata": {
    "collapsed": true
   },
   "outputs": [],
   "source": [
    "train_published = pd.read_table(os.path.join(PATH_TO_DATA,'train_published.txt'), sep='\\n', header=None).\\\n",
    "                applymap(lambda x: eval(x))\n",
    "\n",
    "test_published = pd.read_table(os.path.join(PATH_TO_DATA,'test_published.txt'), sep='\\n', header=None).\\\n",
    "                applymap(lambda x: eval(x))"
   ]
  },
  {
   "cell_type": "code",
   "execution_count": 297,
   "metadata": {
    "collapsed": true
   },
   "outputs": [],
   "source": [
    "train_published['published'] = train_published.iloc[:, 0].apply(lambda x: x.get('$date'))\n",
    "train_published['published'] = train_published['published'].apply(pd.to_datetime).fillna(method='ffill')\n",
    "\n",
    "test_published['published'] = test_published.iloc[:, 0].apply(lambda x: x.get('$date'))\n",
    "test_published['published'] = test_published['published'].apply(pd.to_datetime).fillna(method='ffill')"
   ]
  },
  {
   "cell_type": "code",
   "execution_count": 298,
   "metadata": {
    "collapsed": true
   },
   "outputs": [],
   "source": [
    "train_published['year'] = train_published['published'].apply(lambda ts: ts.year)\n",
    "train_published['month'] = train_published['published'].apply(lambda ts: ts.month)\n",
    "train_published['weekday'] = train_published['published'].apply(lambda ts: ts.weekday())\n",
    "\n",
    "test_published['year'] = test_published['published'].apply(lambda ts: ts.year)\n",
    "test_published['month'] = test_published['published'].apply(lambda ts: ts.month)\n",
    "test_published['weekday'] = test_published['published'].apply(lambda ts: ts.weekday())"
   ]
  },
  {
   "cell_type": "code",
   "execution_count": 299,
   "metadata": {
    "collapsed": true
   },
   "outputs": [],
   "source": [
    "train_published['year_month'] = train_published['year']*100 + train_published['month']\n",
    "test_published['year_month'] = test_published['year']*100 + test_published['month']"
   ]
  },
  {
   "cell_type": "code",
   "execution_count": 300,
   "metadata": {
    "collapsed": true
   },
   "outputs": [],
   "source": [
    "train_published['year_month_wat'] = train_published['year_month']/100000\n",
    "test_published['year_month_wat'] = test_published['year_month']/100000"
   ]
  },
  {
   "cell_type": "code",
   "execution_count": 301,
   "metadata": {},
   "outputs": [
    {
     "name": "stderr",
     "output_type": "stream",
     "text": [
      "/home/kcostya/anaconda3/lib/python3.6/site-packages/sklearn/utils/validation.py:475: DataConversionWarning: Data with input dtype int64 was converted to float64 by StandardScaler.\n",
      "  warnings.warn(msg, DataConversionWarning)\n"
     ]
    }
   ],
   "source": [
    "scaler = StandardScaler()\n",
    "scaler.fit(train_published['year_month'].values.reshape(-1,1))\n",
    "\n",
    "train_published['year_month_scaled'] = scaler.transform(train_published['year_month'].values.reshape(-1,1))\n",
    "test_published['year_month_scaled'] = scaler.transform(test_published['year_month'].values.reshape(-1,1))"
   ]
  },
  {
   "cell_type": "code",
   "execution_count": 302,
   "metadata": {},
   "outputs": [
    {
     "data": {
      "text/html": [
       "<div>\n",
       "<style>\n",
       "    .dataframe thead tr:only-child th {\n",
       "        text-align: right;\n",
       "    }\n",
       "\n",
       "    .dataframe thead th {\n",
       "        text-align: left;\n",
       "    }\n",
       "\n",
       "    .dataframe tbody tr th {\n",
       "        vertical-align: top;\n",
       "    }\n",
       "</style>\n",
       "<table border=\"1\" class=\"dataframe\">\n",
       "  <thead>\n",
       "    <tr style=\"text-align: right;\">\n",
       "      <th></th>\n",
       "      <th>0</th>\n",
       "      <th>published</th>\n",
       "      <th>year</th>\n",
       "      <th>month</th>\n",
       "      <th>weekday</th>\n",
       "      <th>year_month</th>\n",
       "      <th>year_month_wat</th>\n",
       "      <th>year_month_scaled</th>\n",
       "    </tr>\n",
       "  </thead>\n",
       "  <tbody>\n",
       "    <tr>\n",
       "      <th>0</th>\n",
       "      <td>{'$date': '2018-02-21T17:01:00.928Z'}</td>\n",
       "      <td>2018-02-21 17:01:00.928</td>\n",
       "      <td>2018</td>\n",
       "      <td>2</td>\n",
       "      <td>2</td>\n",
       "      <td>201802</td>\n",
       "      <td>2.01802</td>\n",
       "      <td>1.921747</td>\n",
       "    </tr>\n",
       "    <tr>\n",
       "      <th>1</th>\n",
       "      <td>{'$date': '2017-12-07T15:56:00.967Z'}</td>\n",
       "      <td>2017-12-07 15:56:00.967</td>\n",
       "      <td>2017</td>\n",
       "      <td>12</td>\n",
       "      <td>3</td>\n",
       "      <td>201712</td>\n",
       "      <td>2.01712</td>\n",
       "      <td>1.056774</td>\n",
       "    </tr>\n",
       "    <tr>\n",
       "      <th>2</th>\n",
       "      <td>{'$date': '2018-02-08T17:33:27.816Z'}</td>\n",
       "      <td>2018-02-08 17:33:27.816</td>\n",
       "      <td>2018</td>\n",
       "      <td>2</td>\n",
       "      <td>3</td>\n",
       "      <td>201802</td>\n",
       "      <td>2.01802</td>\n",
       "      <td>1.921747</td>\n",
       "    </tr>\n",
       "    <tr>\n",
       "      <th>3</th>\n",
       "      <td>{'$date': '2018-02-09T18:04:12.262Z'}</td>\n",
       "      <td>2018-02-09 18:04:12.262</td>\n",
       "      <td>2018</td>\n",
       "      <td>2</td>\n",
       "      <td>4</td>\n",
       "      <td>201802</td>\n",
       "      <td>2.01802</td>\n",
       "      <td>1.921747</td>\n",
       "    </tr>\n",
       "    <tr>\n",
       "      <th>4</th>\n",
       "      <td>{'$date': '2017-10-02T23:08:00.000Z'}</td>\n",
       "      <td>2017-10-02 23:08:00.000</td>\n",
       "      <td>2017</td>\n",
       "      <td>10</td>\n",
       "      <td>0</td>\n",
       "      <td>201710</td>\n",
       "      <td>2.01710</td>\n",
       "      <td>1.037553</td>\n",
       "    </tr>\n",
       "  </tbody>\n",
       "</table>\n",
       "</div>"
      ],
      "text/plain": [
       "                                       0               published  year  month  \\\n",
       "0  {'$date': '2018-02-21T17:01:00.928Z'} 2018-02-21 17:01:00.928  2018      2   \n",
       "1  {'$date': '2017-12-07T15:56:00.967Z'} 2017-12-07 15:56:00.967  2017     12   \n",
       "2  {'$date': '2018-02-08T17:33:27.816Z'} 2018-02-08 17:33:27.816  2018      2   \n",
       "3  {'$date': '2018-02-09T18:04:12.262Z'} 2018-02-09 18:04:12.262  2018      2   \n",
       "4  {'$date': '2017-10-02T23:08:00.000Z'} 2017-10-02 23:08:00.000  2017     10   \n",
       "\n",
       "   weekday  year_month  year_month_wat  year_month_scaled  \n",
       "0        2      201802         2.01802           1.921747  \n",
       "1        3      201712         2.01712           1.056774  \n",
       "2        3      201802         2.01802           1.921747  \n",
       "3        4      201802         2.01802           1.921747  \n",
       "4        0      201710         2.01710           1.037553  "
      ]
     },
     "execution_count": 302,
     "metadata": {},
     "output_type": "execute_result"
    }
   ],
   "source": [
    "test_published.head()"
   ]
  },
  {
   "cell_type": "code",
   "execution_count": 303,
   "metadata": {
    "collapsed": true
   },
   "outputs": [],
   "source": [
    "train_published.drop([0,'published'], axis=1, inplace=True)\n",
    "test_published.drop([0,'published'], axis=1, inplace=True)"
   ]
  },
  {
   "cell_type": "code",
   "execution_count": 304,
   "metadata": {},
   "outputs": [
    {
     "data": {
      "text/html": [
       "<div>\n",
       "<style>\n",
       "    .dataframe thead tr:only-child th {\n",
       "        text-align: right;\n",
       "    }\n",
       "\n",
       "    .dataframe thead th {\n",
       "        text-align: left;\n",
       "    }\n",
       "\n",
       "    .dataframe tbody tr th {\n",
       "        vertical-align: top;\n",
       "    }\n",
       "</style>\n",
       "<table border=\"1\" class=\"dataframe\">\n",
       "  <thead>\n",
       "    <tr style=\"text-align: right;\">\n",
       "      <th></th>\n",
       "      <th>year</th>\n",
       "      <th>month</th>\n",
       "      <th>weekday</th>\n",
       "      <th>year_month</th>\n",
       "      <th>year_month_wat</th>\n",
       "      <th>year_month_scaled</th>\n",
       "    </tr>\n",
       "  </thead>\n",
       "  <tbody>\n",
       "    <tr>\n",
       "      <th>0</th>\n",
       "      <td>2012</td>\n",
       "      <td>8</td>\n",
       "      <td>0</td>\n",
       "      <td>201208</td>\n",
       "      <td>2.01208</td>\n",
       "      <td>-3.787076</td>\n",
       "    </tr>\n",
       "    <tr>\n",
       "      <th>1</th>\n",
       "      <td>2015</td>\n",
       "      <td>8</td>\n",
       "      <td>0</td>\n",
       "      <td>201508</td>\n",
       "      <td>2.01508</td>\n",
       "      <td>-0.903832</td>\n",
       "    </tr>\n",
       "    <tr>\n",
       "      <th>2</th>\n",
       "      <td>2017</td>\n",
       "      <td>2</td>\n",
       "      <td>6</td>\n",
       "      <td>201702</td>\n",
       "      <td>2.01702</td>\n",
       "      <td>0.960666</td>\n",
       "    </tr>\n",
       "    <tr>\n",
       "      <th>3</th>\n",
       "      <td>2017</td>\n",
       "      <td>5</td>\n",
       "      <td>5</td>\n",
       "      <td>201705</td>\n",
       "      <td>2.01705</td>\n",
       "      <td>0.989499</td>\n",
       "    </tr>\n",
       "    <tr>\n",
       "      <th>4</th>\n",
       "      <td>2017</td>\n",
       "      <td>6</td>\n",
       "      <td>6</td>\n",
       "      <td>201706</td>\n",
       "      <td>2.01706</td>\n",
       "      <td>0.999109</td>\n",
       "    </tr>\n",
       "  </tbody>\n",
       "</table>\n",
       "</div>"
      ],
      "text/plain": [
       "   year  month  weekday  year_month  year_month_wat  year_month_scaled\n",
       "0  2012      8        0      201208         2.01208          -3.787076\n",
       "1  2015      8        0      201508         2.01508          -0.903832\n",
       "2  2017      2        6      201702         2.01702           0.960666\n",
       "3  2017      5        5      201705         2.01705           0.989499\n",
       "4  2017      6        6      201706         2.01706           0.999109"
      ]
     },
     "execution_count": 304,
     "metadata": {},
     "output_type": "execute_result"
    }
   ],
   "source": [
    "train_published.head()"
   ]
  },
  {
   "cell_type": "code",
   "execution_count": 305,
   "metadata": {},
   "outputs": [
    {
     "data": {
      "text/plain": [
       "5     6808\n",
       "6     6730\n",
       "3     6512\n",
       "4     6189\n",
       "1     5782\n",
       "2     5598\n",
       "12    4742\n",
       "11    4537\n",
       "10    4410\n",
       "8     3798\n",
       "9     3792\n",
       "7     3415\n",
       "Name: month, dtype: int64"
      ]
     },
     "execution_count": 305,
     "metadata": {},
     "output_type": "execute_result"
    }
   ],
   "source": [
    "train_published['month'].value_counts()"
   ]
  },
  {
   "cell_type": "code",
   "execution_count": 306,
   "metadata": {},
   "outputs": [],
   "source": [
    "X_train_time_features = pd.DataFrame(pd.concat([train_published['year_month_scaled'],train_published['year_month_wat'],\n",
    "                                                pd.get_dummies(train_published['weekday'],\n",
    "                                                               prefix='day', drop_first=False)], axis=1))\n",
    "\n",
    "X_test_time_features = pd.DataFrame(pd.concat([test_published['year_month_scaled'], test_published['year_month_wat'],\n",
    "                                                pd.get_dummies(test_published['weekday'],\n",
    "                                                               prefix='day', drop_first=False)], axis=1))"
   ]
  },
  {
   "cell_type": "code",
   "execution_count": 307,
   "metadata": {},
   "outputs": [
    {
     "data": {
      "text/plain": [
       "Index(['year_month_scaled', 'year_month_wat', 'day_0', 'day_1', 'day_2',\n",
       "       'day_3', 'day_4', 'day_5', 'day_6'],\n",
       "      dtype='object')"
      ]
     },
     "execution_count": 307,
     "metadata": {},
     "output_type": "execute_result"
    }
   ],
   "source": [
    "X_train_time_features.columns"
   ]
  },
  {
   "cell_type": "code",
   "execution_count": 308,
   "metadata": {},
   "outputs": [
    {
     "data": {
      "text/html": [
       "<div>\n",
       "<style>\n",
       "    .dataframe thead tr:only-child th {\n",
       "        text-align: right;\n",
       "    }\n",
       "\n",
       "    .dataframe thead th {\n",
       "        text-align: left;\n",
       "    }\n",
       "\n",
       "    .dataframe tbody tr th {\n",
       "        vertical-align: top;\n",
       "    }\n",
       "</style>\n",
       "<table border=\"1\" class=\"dataframe\">\n",
       "  <thead>\n",
       "    <tr style=\"text-align: right;\">\n",
       "      <th></th>\n",
       "      <th>year_month_scaled</th>\n",
       "      <th>year_month_wat</th>\n",
       "      <th>day_0</th>\n",
       "      <th>day_1</th>\n",
       "      <th>day_2</th>\n",
       "      <th>day_3</th>\n",
       "      <th>day_4</th>\n",
       "      <th>day_5</th>\n",
       "      <th>day_6</th>\n",
       "    </tr>\n",
       "  </thead>\n",
       "  <tbody>\n",
       "    <tr>\n",
       "      <th>0</th>\n",
       "      <td>-3.787076</td>\n",
       "      <td>2.01208</td>\n",
       "      <td>1</td>\n",
       "      <td>0</td>\n",
       "      <td>0</td>\n",
       "      <td>0</td>\n",
       "      <td>0</td>\n",
       "      <td>0</td>\n",
       "      <td>0</td>\n",
       "    </tr>\n",
       "    <tr>\n",
       "      <th>1</th>\n",
       "      <td>-0.903832</td>\n",
       "      <td>2.01508</td>\n",
       "      <td>1</td>\n",
       "      <td>0</td>\n",
       "      <td>0</td>\n",
       "      <td>0</td>\n",
       "      <td>0</td>\n",
       "      <td>0</td>\n",
       "      <td>0</td>\n",
       "    </tr>\n",
       "    <tr>\n",
       "      <th>2</th>\n",
       "      <td>0.960666</td>\n",
       "      <td>2.01702</td>\n",
       "      <td>0</td>\n",
       "      <td>0</td>\n",
       "      <td>0</td>\n",
       "      <td>0</td>\n",
       "      <td>0</td>\n",
       "      <td>0</td>\n",
       "      <td>1</td>\n",
       "    </tr>\n",
       "    <tr>\n",
       "      <th>3</th>\n",
       "      <td>0.989499</td>\n",
       "      <td>2.01705</td>\n",
       "      <td>0</td>\n",
       "      <td>0</td>\n",
       "      <td>0</td>\n",
       "      <td>0</td>\n",
       "      <td>0</td>\n",
       "      <td>1</td>\n",
       "      <td>0</td>\n",
       "    </tr>\n",
       "    <tr>\n",
       "      <th>4</th>\n",
       "      <td>0.999109</td>\n",
       "      <td>2.01706</td>\n",
       "      <td>0</td>\n",
       "      <td>0</td>\n",
       "      <td>0</td>\n",
       "      <td>0</td>\n",
       "      <td>0</td>\n",
       "      <td>0</td>\n",
       "      <td>1</td>\n",
       "    </tr>\n",
       "  </tbody>\n",
       "</table>\n",
       "</div>"
      ],
      "text/plain": [
       "   year_month_scaled  year_month_wat  day_0  day_1  day_2  day_3  day_4  \\\n",
       "0          -3.787076         2.01208      1      0      0      0      0   \n",
       "1          -0.903832         2.01508      1      0      0      0      0   \n",
       "2           0.960666         2.01702      0      0      0      0      0   \n",
       "3           0.989499         2.01705      0      0      0      0      0   \n",
       "4           0.999109         2.01706      0      0      0      0      0   \n",
       "\n",
       "   day_5  day_6  \n",
       "0      0      0  \n",
       "1      0      0  \n",
       "2      0      1  \n",
       "3      1      0  \n",
       "4      0      1  "
      ]
     },
     "execution_count": 308,
     "metadata": {},
     "output_type": "execute_result"
    }
   ],
   "source": [
    "X_train_time_features.head()"
   ]
  },
  {
   "cell_type": "code",
   "execution_count": 309,
   "metadata": {},
   "outputs": [],
   "source": [
    "X_train_time_features.drop(['year_month_scaled', 'day_0', 'day_1', 'day_2', 'day_3', 'day_4',\n",
    "       'day_5', 'day_6'], axis=1, inplace=True)"
   ]
  },
  {
   "cell_type": "code",
   "execution_count": 310,
   "metadata": {},
   "outputs": [],
   "source": [
    "X_test_time_features.drop(['year_month_scaled','day_0', 'day_1', 'day_2', 'day_3', 'day_4',\n",
    "       'day_5', 'day_6'], axis=1, inplace=True)"
   ]
  },
  {
   "cell_type": "code",
   "execution_count": 311,
   "metadata": {},
   "outputs": [
    {
     "data": {
      "text/plain": [
       "(62313, 1)"
      ]
     },
     "execution_count": 311,
     "metadata": {},
     "output_type": "execute_result"
    }
   ],
   "source": [
    "X_train_time_features.shape"
   ]
  },
  {
   "cell_type": "markdown",
   "metadata": {},
   "source": [
    "**Join all sparse matrices.**"
   ]
  },
  {
   "cell_type": "code",
   "execution_count": 312,
   "metadata": {},
   "outputs": [
    {
     "data": {
      "text/plain": [
       "618"
      ]
     },
     "execution_count": 312,
     "metadata": {},
     "output_type": "execute_result"
    }
   ],
   "source": [
    "import gc\n",
    "gc.collect()"
   ]
  },
  {
   "cell_type": "code",
   "execution_count": 313,
   "metadata": {
    "collapsed": true
   },
   "outputs": [],
   "source": [
    "X_train_sparse = csr_matrix(hstack([X_train_content_sparse, X_train_title_sparse,X_train_author_sparse, \n",
    "                                    X_train_time_features, \n",
    "                                    train_content[['num_words_log_scaled']], \n",
    "                                    X_train_pics, X_train_time]))"
   ]
  },
  {
   "cell_type": "code",
   "execution_count": 314,
   "metadata": {},
   "outputs": [],
   "source": [
    "X_test_sparse = csr_matrix(hstack([X_test_content_sparse, X_test_title_sparse,X_test_author_sparse, \n",
    "                                   X_test_time_features,\n",
    "                                   test_content[['num_words_log_scaled']], \n",
    "                                   X_test_pics, X_test_time]))"
   ]
  },
  {
   "cell_type": "code",
   "execution_count": 315,
   "metadata": {},
   "outputs": [
    {
     "data": {
      "text/plain": [
       "((62313, 178361), (34645, 178361))"
      ]
     },
     "execution_count": 315,
     "metadata": {},
     "output_type": "execute_result"
    }
   ],
   "source": [
    "X_train_sparse.shape, X_test_sparse.shape"
   ]
  },
  {
   "cell_type": "markdown",
   "metadata": {},
   "source": [
    "**Read train target and split data for validation.**"
   ]
  },
  {
   "cell_type": "code",
   "execution_count": 316,
   "metadata": {
    "collapsed": true
   },
   "outputs": [],
   "source": [
    "train_target = pd.read_csv(os.path.join(PATH_TO_DATA,'train_log1p_recommends.csv'), \n",
    "                           index_col='id')\n",
    "y_train = train_target['log_recommends'].values"
   ]
  },
  {
   "cell_type": "markdown",
   "metadata": {},
   "source": [
    "**Train the same Ridge with all available data, make predictions for the test set and form a submission file.**"
   ]
  },
  {
   "cell_type": "code",
   "execution_count": 317,
   "metadata": {},
   "outputs": [
    {
     "name": "stdout",
     "output_type": "stream",
     "text": [
      "CPU times: user 1min 43s, sys: 1.37 s, total: 1min 44s\n",
      "Wall time: 1min 44s\n"
     ]
    }
   ],
   "source": [
    "%%time\n",
    "ridge = Ridge(alpha=1.0)\n",
    "ridge.fit(X_train_sparse, y_train);"
   ]
  },
  {
   "cell_type": "code",
   "execution_count": 318,
   "metadata": {},
   "outputs": [
    {
     "name": "stdout",
     "output_type": "stream",
     "text": [
      "CPU times: user 144 ms, sys: 171 µs, total: 144 ms\n",
      "Wall time: 143 ms\n"
     ]
    }
   ],
   "source": [
    "%%time\n",
    "ridge_test_pred = ridge.predict(X_test_sparse)"
   ]
  },
  {
   "cell_type": "code",
   "execution_count": 319,
   "metadata": {
    "collapsed": true
   },
   "outputs": [],
   "source": [
    "def write_submission_file(prediction, filename,\n",
    "                          path_to_sample=os.path.join(PATH_TO_DATA,'sample_submission.csv')):\n",
    "    submission = pd.read_csv(path_to_sample, index_col='id')\n",
    "    \n",
    "    submission['log_recommends'] = prediction\n",
    "    submission.to_csv(filename)"
   ]
  },
  {
   "cell_type": "code",
   "execution_count": 320,
   "metadata": {
    "collapsed": true
   },
   "outputs": [],
   "source": [
    "write_submission_file(ridge_test_pred, 'assignment6_medium_submission_Ridge_tuned.csv')"
   ]
  },
  {
   "cell_type": "markdown",
   "metadata": {},
   "source": [
    "**Now's the time for dirty Kaggle hacks. Form a submission file with all zeroes. Make a submission. What do you get if you think about it? How is it going to help you with modifying your predictions?**"
   ]
  },
  {
   "cell_type": "code",
   "execution_count": 321,
   "metadata": {
    "collapsed": true
   },
   "outputs": [],
   "source": [
    "write_submission_file(np.zeros_like(ridge_test_pred), \n",
    "                      'medium_all_zeros_submission.csv')"
   ]
  },
  {
   "cell_type": "markdown",
   "metadata": {},
   "source": [
    "**Modify predictions in an appropriate way (based on your all-zero submission) and make a new submission.**"
   ]
  },
  {
   "cell_type": "code",
   "execution_count": 322,
   "metadata": {
    "collapsed": true
   },
   "outputs": [],
   "source": [
    "ridge_test_pred_modif = ridge_test_pred*(4.33328*ridge_test_pred.shape[0])/sum(ridge_test_pred)"
   ]
  },
  {
   "cell_type": "code",
   "execution_count": 323,
   "metadata": {
    "collapsed": true
   },
   "outputs": [],
   "source": [
    "write_submission_file(ridge_test_pred_modif, \n",
    "                      'assignment6_medium_submission_with_hack_tuned.csv')"
   ]
  },
  {
   "cell_type": "code",
   "execution_count": null,
   "metadata": {
    "collapsed": true
   },
   "outputs": [],
   "source": []
  }
 ],
 "metadata": {
  "kernelspec": {
   "display_name": "Python 3",
   "language": "python",
   "name": "python3"
  },
  "language_info": {
   "codemirror_mode": {
    "name": "ipython",
    "version": 3
   },
   "file_extension": ".py",
   "mimetype": "text/x-python",
   "name": "python",
   "nbconvert_exporter": "python",
   "pygments_lexer": "ipython3",
   "version": "3.6.3"
  }
 },
 "nbformat": 4,
 "nbformat_minor": 2
}
